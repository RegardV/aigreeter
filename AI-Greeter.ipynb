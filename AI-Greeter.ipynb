{
 "cells": [
  {
   "cell_type": "code",
   "execution_count": 1,
   "id": "7a9e0099-1392-4cc1-9c6d-a28b24010033",
   "metadata": {
    "scrolled": true
   },
   "outputs": [
    {
     "name": "stdout",
     "output_type": "stream",
     "text": [
      "Ready to greet Aivie and Grok with pirate flair!\n"
     ]
    }
   ],
   "source": [
    "import requests\n",
    "import datetime\n",
    "print(\"Ready to greet Aivie and Grok with pirate flair!\")"
   ]
  },
  {
   "cell_type": "code",
   "execution_count": 2,
   "id": "e8fdd806-9dd4-45c4-9efd-0591b630f135",
   "metadata": {},
   "outputs": [
    {
     "name": "stdout",
     "output_type": "stream",
     "text": [
      "AI says to Aivie: Ahoy Aivie\n"
     ]
    }
   ],
   "source": [
    "name1 = \"Aivie\"\n",
    "url1 = f\"https://api.funtranslations.com/translate/pirate.json?text=Hello%20{name1}\"\n",
    "response1 = requests.get(url1)\n",
    "greeting1 = response1.json()[\"contents\"][\"translated\"]\n",
    "print(f\"AI says to Aivie: {greeting1}\")"
   ]
  },
  {
   "cell_type": "code",
   "execution_count": 3,
   "id": "8b6db91c-025d-46bc-addd-bb97d319f283",
   "metadata": {},
   "outputs": [
    {
     "name": "stdout",
     "output_type": "stream",
     "text": [
      "AI says to Bobby: Ahoy Bobby\n"
     ]
    }
   ],
   "source": [
    "name2 = \"Bobby\"\n",
    "url2 = f\"https://api.funtranslations.com/translate/pirate.json?text=Hello%20{name2}\"\n",
    "response2 = requests.get(url2)\n",
    "greeting2 = response2.json()[\"contents\"][\"translated\"]\n",
    "print(f\"AI says to Bobby: {greeting2}\")"
   ]
  },
  {
   "cell_type": "code",
   "execution_count": 4,
   "id": "d08b457e-b2db-40d6-acc6-048ffcf0dcb7",
   "metadata": {},
   "outputs": [
    {
     "name": "stdout",
     "output_type": "stream",
     "text": [
      "Logged to greetings_log.txt—check it out!\n"
     ]
    }
   ],
   "source": [
    "now = datetime.datetime.now()\n",
    "log_entry = f\"{now}: {greeting1} | {greeting2}\\n\"\n",
    "with open(\"greetings_log.txt\", \"a\") as file:\n",
    "    file.write(log_entry)\n",
    "print(\"Logged to greetings_log.txt—check it out!\")"
   ]
  },
  {
   "cell_type": "markdown",
   "id": "15e69b59-9608-48eb-95c8-d7c5f2babc12",
   "metadata": {},
   "source": [
    "# Enhanced AI Greeter\n",
    "Fetches pirate greetings for Aivie and Grok, logs them with timestamps - my CrewAI warm-up!"
   ]
  }
 ],
 "metadata": {
  "kernelspec": {
   "display_name": "Python 3 (ipykernel)",
   "language": "python",
   "name": "python3"
  },
  "language_info": {
   "codemirror_mode": {
    "name": "ipython",
    "version": 3
   },
   "file_extension": ".py",
   "mimetype": "text/x-python",
   "name": "python",
   "nbconvert_exporter": "python",
   "pygments_lexer": "ipython3",
   "version": "3.11.6"
  }
 },
 "nbformat": 4,
 "nbformat_minor": 5
}
